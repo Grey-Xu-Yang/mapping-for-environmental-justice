{
 "cells": [
  {
   "cell_type": "markdown",
   "metadata": {},
   "source": [
    "## MEJ Python Data Analysis & Visualization Training\n",
    "\n",
    "Summer 2020\n",
    "\n",
    "At this point, you should already have python and jupyter notebooks downloaded using Anaconda. Therefore, nothing new should need to be downloaded or installed ahead. If at any point you receive an error that a library isn’t installed, simply type “pip install package” in the terminal.  \n",
    "\n",
    "During this training, we’ll learn how to bring in, explore, visualize, and analyze our data using some common commands.\n"
   ]
  },
  {
   "cell_type": "markdown",
   "metadata": {},
   "source": [
    "### Step 1: Import packages"
   ]
  },
  {
   "cell_type": "code",
   "execution_count": null,
   "metadata": {},
   "outputs": [],
   "source": [
    "import numpy as np # numpy is used for scientific computing and working with arrays\n",
    "import matplotlib.pyplot as plt # matplotlib is used for plotting\n",
    "import pandas as pd # pandas is used for data analysis and makes working with data tables easier\n",
    "import statsmodels.formula.api as smf # statsmodels is an easy to use package for regression that works very similar to R\n"
   ]
  },
  {
   "cell_type": "markdown",
   "metadata": {},
   "source": [
    "### Step 2: Read in the data"
   ]
  },
  {
   "cell_type": "markdown",
   "metadata": {},
   "source": [
    "Note that the data you read in needs to be in the same directory (folder) as your notebook"
   ]
  },
  {
   "cell_type": "code",
   "execution_count": null,
   "metadata": {
    "scrolled": true
   },
   "outputs": [],
   "source": [
    "df = pd.read_csv(\"EJSCREEN_2019.csv\")\n",
    "df.head()"
   ]
  },
  {
   "cell_type": "markdown",
   "metadata": {},
   "source": [
    "### Step 3: Explore the data"
   ]
  },
  {
   "cell_type": "markdown",
   "metadata": {},
   "source": [
    "First, try out .shape to see the size of your dataframe. The shape function is a numpy  funtion that can be used to get the current shape of an array. For example, for dataframe or matrix, shape will first return the number of rows, followed by the number of columns."
   ]
  },
  {
   "cell_type": "code",
   "execution_count": null,
   "metadata": {},
   "outputs": [],
   "source": [
    "# Your code here"
   ]
  },
  {
   "cell_type": "markdown",
   "metadata": {},
   "source": [
    "Alternatively, if you just want to see who many rows your dataframe is, you can use the len() function. The length function is a built-in python function that can be used on different types of objects. For instance len(\"apple\") will return 5 and len(df) will return the number of rows in your dataframe."
   ]
  },
  {
   "cell_type": "code",
   "execution_count": null,
   "metadata": {},
   "outputs": [],
   "source": [
    "# Your code here"
   ]
  },
  {
   "cell_type": "markdown",
   "metadata": {},
   "source": [
    "To see a list of the column names, use the built-in python list() function with the pandas .columns function, which returns column labels."
   ]
  },
  {
   "cell_type": "code",
   "execution_count": null,
   "metadata": {},
   "outputs": [],
   "source": [
    "# Your code here"
   ]
  },
  {
   "cell_type": "markdown",
   "metadata": {},
   "source": [
    "Now let's see how many null values we have by column. Pandas doesn't like to print out all the row values, so since we have 78 columns we need to change the pandas display options to show max rows (you can also do this for max columns)."
   ]
  },
  {
   "cell_type": "code",
   "execution_count": null,
   "metadata": {},
   "outputs": [],
   "source": [
    "pd.set_option('display.max_rows', None)\n",
    "df.isnull().sum()"
   ]
  },
  {
   "cell_type": "markdown",
   "metadata": {},
   "source": [
    "For this dataset, null values are input as \"None\" - this is why python told us some columns have mixed datatypes and null values counts sum to 0. If we were going to use these columns we need to change all \"None\" values to null values. \n",
    "\n",
    "First let's confirm which columns have mixed datatypes - they will have an object datatype."
   ]
  },
  {
   "cell_type": "code",
   "execution_count": null,
   "metadata": {},
   "outputs": [],
   "source": [
    "# Use .dtypes \n",
    "# Your code here"
   ]
  },
  {
   "cell_type": "markdown",
   "metadata": {},
   "source": [
    "Now we'll use .replace(old value, new value) to replace None values with np.nan - null values. Remember to save your results by saving the output to df and check your results by seeing how many null values there are now."
   ]
  },
  {
   "cell_type": "code",
   "execution_count": null,
   "metadata": {},
   "outputs": [],
   "source": [
    "# Your code here"
   ]
  },
  {
   "cell_type": "markdown",
   "metadata": {},
   "source": [
    "Finally we need to change columns with object data types to float data types. Check your results by using dtypes again."
   ]
  },
  {
   "cell_type": "code",
   "execution_count": null,
   "metadata": {
    "scrolled": true
   },
   "outputs": [],
   "source": [
    "df[['PM25', 'OZONE', 'DSLPM', 'CANCER', 'RESP', 'PWDIS']] = df[['PM25', 'OZONE', 'DSLPM', 'CANCER', 'RESP', 'PWDIS']].astype(float)\n",
    "# ID, the census tract number, should also be an integer rather than a float so we'll change that here too\n",
    "df['ID'] = df['ID'].astype(int) \n",
    "df.dtypes"
   ]
  },
  {
   "cell_type": "markdown",
   "metadata": {},
   "source": [
    "Since we're only interested in Colorado for now, let's create a subset of our data. "
   ]
  },
  {
   "cell_type": "code",
   "execution_count": null,
   "metadata": {
    "scrolled": true
   },
   "outputs": [],
   "source": [
    "co = df[df.STATE_NAME == 'Colorado']\n",
    "print(len(co))\n",
    "co.head()"
   ]
  },
  {
   "cell_type": "markdown",
   "metadata": {},
   "source": [
    "Now let's look at some basic statistics about our data using .describe()"
   ]
  },
  {
   "cell_type": "code",
   "execution_count": null,
   "metadata": {},
   "outputs": [],
   "source": [
    "# Your code here"
   ]
  },
  {
   "cell_type": "markdown",
   "metadata": {},
   "source": [
    "There seems to be a large variance in Cancer Risk. Let's look at the 5 census tracts with the largest Cancer Risk."
   ]
  },
  {
   "cell_type": "code",
   "execution_count": null,
   "metadata": {},
   "outputs": [],
   "source": [
    "co.sort_values(by = ['CANCER'], ascending = False)[['ID', 'ACSTOTPOP', 'CANCER']].head(5)"
   ]
  },
  {
   "cell_type": "markdown",
   "metadata": {},
   "source": [
    "### Step 3: Visualize the data"
   ]
  },
  {
   "cell_type": "markdown",
   "metadata": {},
   "source": [
    "Now that we're familiar with our data, let's start visualizing our data. First let's look at the distribution of Cancer Risk."
   ]
  },
  {
   "cell_type": "code",
   "execution_count": null,
   "metadata": {},
   "outputs": [],
   "source": [
    "# use range with bins to define bins of size 20 that start at 0 and end at 600\n",
    "plt.hist(co[\"CANCER\"], bins = range(0,600,20)) \n",
    "plt.xlabel(\"Total Cancer Risk (per million)\") # add an x label\n",
    "plt.ylabel(\"Number of Census Tracts\") # add a y label\n",
    "plt.title(\"Cancer Risk Distribution\") # add a title\n",
    "plt.show() # show the figure"
   ]
  },
  {
   "cell_type": "markdown",
   "metadata": {},
   "source": [
    "While plt.YourPlotStyle is the most straightforward method to create a chart using matplotlib, you can also define the number of subplots first. This gives you more options for plotting. Notice how some of the commands change slightly for seting an x lable and title. There's also no need for plt.show()."
   ]
  },
  {
   "cell_type": "code",
   "execution_count": null,
   "metadata": {},
   "outputs": [],
   "source": [
    "fig, ax = plt.subplots(ncols = 1) # here you're defining 1 subplot, which is called ax\n",
    "ax.scatter(co[\"ACSTOTPOP\"], co[\"CANCER\"])\n",
    "ax.set_xlabel(\"Population\") # add an x label\n",
    "ax.set_ylabel(\"Total Cancer Risk (per million)\") # add a y label\n",
    "ax.spines['right'].set_visible(False) # you can get rid of unwanted axes with this code\n",
    "ax.spines['top'].set_visible(False)\n",
    "_ = ax.set_title(\"Population versus Cancer Risk\") # _ prevents this command from printing out the title"
   ]
  },
  {
   "cell_type": "markdown",
   "metadata": {},
   "source": [
    "Explore some other relationships with your own chart below."
   ]
  },
  {
   "cell_type": "code",
   "execution_count": null,
   "metadata": {},
   "outputs": [],
   "source": [
    "# Your code goes here"
   ]
  },
  {
   "cell_type": "markdown",
   "metadata": {},
   "source": [
    "### Step 4: Analyze the data"
   ]
  },
  {
   "cell_type": "markdown",
   "metadata": {},
   "source": [
    "Now let's explore these relationships further through some analysis.\n",
    "\n",
    "What do you observe in your scatter plots? Does there appear to be a relationship between your variables? Calculate the correlation between these two variables. Do you think this relationship is causal, or just a correlation?"
   ]
  },
  {
   "cell_type": "code",
   "execution_count": null,
   "metadata": {},
   "outputs": [],
   "source": [
    "# Use df[['v1', 'v2']].corr()\n",
    "# Your code here"
   ]
  },
  {
   "cell_type": "markdown",
   "metadata": {},
   "source": [
    "Next let's explore correlations between all our variables. Are there any surprising relationships?"
   ]
  },
  {
   "cell_type": "code",
   "execution_count": null,
   "metadata": {},
   "outputs": [],
   "source": [
    "# Your code here\n",
    "# You can use style.background_gradient(cmap = 'RdYlGn') to color your matrix"
   ]
  },
  {
   "cell_type": "markdown",
   "metadata": {},
   "source": [
    "Let's run a regression on a relationship of interest."
   ]
  },
  {
   "cell_type": "code",
   "execution_count": null,
   "metadata": {},
   "outputs": [],
   "source": [
    "# Use model = smf.ols(formula = 'y ~ x', data = df).fit() and print(model.summary())\n",
    "# Your code here"
   ]
  },
  {
   "cell_type": "markdown",
   "metadata": {},
   "source": [
    "Describe your results."
   ]
  },
  {
   "cell_type": "code",
   "execution_count": null,
   "metadata": {},
   "outputs": [],
   "source": [
    "# Your explaination here"
   ]
  },
  {
   "cell_type": "markdown",
   "metadata": {},
   "source": [
    "With a one unit increase in PM 2.5, the Cancer Risk Indicator increases by 3.24 points. Our p-value is very high and we see a relatively low r-squared value, meaning PM 2.5 doesn't explain much variation in Cancer Risk."
   ]
  }
 ],
 "metadata": {
  "kernelspec": {
   "display_name": "Python 3",
   "language": "python",
   "name": "python3"
  },
  "language_info": {
   "codemirror_mode": {
    "name": "ipython",
    "version": 3
   },
   "file_extension": ".py",
   "mimetype": "text/x-python",
   "name": "python",
   "nbconvert_exporter": "python",
   "pygments_lexer": "ipython3",
   "version": "3.7.6"
  }
 },
 "nbformat": 4,
 "nbformat_minor": 4
}

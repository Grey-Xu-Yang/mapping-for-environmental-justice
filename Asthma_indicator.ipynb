{
 "cells": [
  {
   "cell_type": "code",
   "execution_count": 4,
   "metadata": {},
   "outputs": [],
   "source": [
    "import pandas as pd\n",
    "#import seaborn as sns\n",
    "import matplotlib.pyplot as plt\n",
    "import numpy as np\n",
    "import geopandas as gpd\n",
    "import shapely\n",
    "from shapely.geometry import Point, MultiPoint, Polygon, MultiPolygon, shape\n",
    "from shapely.affinity import scale\n",
    "#import geoplot"
   ]
  },
  {
   "cell_type": "markdown",
   "metadata": {},
   "source": [
    "# Asthma Disease Indicator Analysis"
   ]
  },
  {
   "cell_type": "markdown",
   "metadata": {},
   "source": [
    "The purpose of this notebook is to explore two different datasets for their usability as the Asthma Indicator for CO"
   ]
  },
  {
   "cell_type": "markdown",
   "metadata": {},
   "source": [
    "#### Dataset Info\n",
    "\n",
    "The current dataset being used is Asthma-related hospital discharge among adults (18+) per census tract. The alternative is the modeled prevalence of asthma in a census tract.\n",
    "\n",
    "Modeled Prevalence of Asthma: https://data-cdphe.opendata.arcgis.com/datasets/99d966b6ab75450c93569a3f112f3002_1\n",
    "\n",
    "Asthma hospitalization: https://data-cdphe.opendata.arcgis.com/datasets/asthma-hospitalization-rate-census-tracts"
   ]
  },
  {
   "cell_type": "markdown",
   "metadata": {},
   "source": [
    "#### CES methodology\n",
    "\n",
    "CalEnviroScreen currently using the number of emergency department visits and lists it as \"the best available way of describing differences in asthma across the state at the census tract scale\".  It is especially important that we focus on picking an indicator that helps us describe the difference in asthma across states."
   ]
  },
  {
   "cell_type": "markdown",
   "metadata": {},
   "source": [
    "### Surface-Level Pros and Cons\n",
    "\n",
    "###### Modeled Prevalence\n",
    "\n",
    "Pros\n",
    "- We have decided to use modeled prevalence for the heart disease indicator so for consistency sake this makes sense\n",
    "- modeled prevalence helps capture those that have asthma but have not been hospitalized for it\n",
    "\n",
    "\n",
    "Cons\n",
    "- The data is based off modeling and not direct survey estimates\n",
    "- The modeling uses the relationship between age, race, gender, poverty, education, location and health conditions or risk behavior indicators which means that any bias present in any of these indicators leaks into the modeling estimates\n",
    "\n",
    "\n",
    "\n",
    "###### Hospital Discharges\n",
    "\n",
    "Pros\n",
    "- A bit more empirical than modeled prevalence\n",
    "- Hospitalization helps track the more serious cases of asthma, supposedly tying into the worsening of asthma from air pollution\n",
    "\n",
    "\n",
    "Cons\n",
    "- We fail to capture those with asthma who do not go to the hospital"
   ]
  },
  {
   "cell_type": "markdown",
   "metadata": {},
   "source": [
    "## Data Analysis"
   ]
  },
  {
   "cell_type": "code",
   "execution_count": 5,
   "metadata": {},
   "outputs": [],
   "source": [
    "modeled = pd.read_csv(\"data/Asthma_Prevalence_in_Adults_-_CDPHE_Community_Level_Estimates__Census_Tracts_.csv\")\n",
    "hospital = pd.read_csv(\"data/Asthma_Hospitalization_Rate_Census_Tracts.csv\")"
   ]
  },
  {
   "cell_type": "code",
   "execution_count": 6,
   "metadata": {},
   "outputs": [
    {
     "data": {
      "text/html": [
       "<div>\n",
       "<style scoped>\n",
       "    .dataframe tbody tr th:only-of-type {\n",
       "        vertical-align: middle;\n",
       "    }\n",
       "\n",
       "    .dataframe tbody tr th {\n",
       "        vertical-align: top;\n",
       "    }\n",
       "\n",
       "    .dataframe thead th {\n",
       "        text-align: right;\n",
       "    }\n",
       "</style>\n",
       "<table border=\"1\" class=\"dataframe\">\n",
       "  <thead>\n",
       "    <tr style=\"text-align: right;\">\n",
       "      <th></th>\n",
       "      <th>OBJECTID</th>\n",
       "      <th>Census_Tract_FIPS</th>\n",
       "      <th>Census_Tract_Name</th>\n",
       "      <th>County_Name</th>\n",
       "      <th>Adult_Population_Age18_and_over</th>\n",
       "      <th>Health_Statistics_Region</th>\n",
       "      <th>Asthma_Census_Tract_Estimate</th>\n",
       "      <th>Asthma_Estimate_Confidence_Interval</th>\n",
       "      <th>Asthma_Map_Symbol_withinHSR</th>\n",
       "      <th>Asthma_County_Regional_Estimate</th>\n",
       "      <th>Asthma_Map_Symbol_State</th>\n",
       "      <th>Asthma_State_Estimate</th>\n",
       "    </tr>\n",
       "  </thead>\n",
       "  <tbody>\n",
       "    <tr>\n",
       "      <th>0</th>\n",
       "      <td>1</td>\n",
       "      <td>8043979000</td>\n",
       "      <td>Census Tract 9790, Fremont County, Colorado</td>\n",
       "      <td>Fremont</td>\n",
       "      <td>2994</td>\n",
       "      <td>13</td>\n",
       "      <td>9.1</td>\n",
       "      <td>95% C.I.: 7.9 - 10.5</td>\n",
       "      <td>Fourth Quintile</td>\n",
       "      <td>County/Regional Estimate 9.9% (95% C.I.: 7.1 -...</td>\n",
       "      <td>Fourth Quintile</td>\n",
       "      <td>State Estimate 8.9% (95% C.I.: 8.5 - 9.2)</td>\n",
       "    </tr>\n",
       "    <tr>\n",
       "      <th>1</th>\n",
       "      <td>2</td>\n",
       "      <td>8045951600</td>\n",
       "      <td>Census Tract 9516, Garfield County, Colorado</td>\n",
       "      <td>Garfield</td>\n",
       "      <td>2800</td>\n",
       "      <td>12</td>\n",
       "      <td>7.9</td>\n",
       "      <td>95% C.I.: 6.8 - 9.2</td>\n",
       "      <td>Middle Quintile</td>\n",
       "      <td>County/Regional Estimate 5.1% (95% C.I.: 3.1 -...</td>\n",
       "      <td>Lowest Quintile</td>\n",
       "      <td>State Estimate 8.9% (95% C.I.: 8.5 - 9.2)</td>\n",
       "    </tr>\n",
       "    <tr>\n",
       "      <th>2</th>\n",
       "      <td>3</td>\n",
       "      <td>8069002803</td>\n",
       "      <td>Census Tract 28.03, Larimer County, Colorado</td>\n",
       "      <td>Larimer</td>\n",
       "      <td>97</td>\n",
       "      <td>2</td>\n",
       "      <td>9.8</td>\n",
       "      <td>95% C.I.: 8.8 - 10.8</td>\n",
       "      <td>Highest Quintile</td>\n",
       "      <td>County/Regional Estimate 8.4% (95% C.I.: 7 - 9.7)</td>\n",
       "      <td>Highest Quintile</td>\n",
       "      <td>State Estimate 8.9% (95% C.I.: 8.5 - 9.2)</td>\n",
       "    </tr>\n",
       "    <tr>\n",
       "      <th>3</th>\n",
       "      <td>4</td>\n",
       "      <td>8125963200</td>\n",
       "      <td>Census Tract 9632, Yuma County, Colorado</td>\n",
       "      <td>Yuma</td>\n",
       "      <td>4381</td>\n",
       "      <td>1</td>\n",
       "      <td>8.1</td>\n",
       "      <td>95% C.I.: 6.8 - 9.7</td>\n",
       "      <td>Lowest Quintile</td>\n",
       "      <td>County/Regional Estimate 4% (95% C.I.: 1.7 - 6.4)</td>\n",
       "      <td>Lowest Quintile</td>\n",
       "      <td>State Estimate 8.9% (95% C.I.: 8.5 - 9.2)</td>\n",
       "    </tr>\n",
       "    <tr>\n",
       "      <th>4</th>\n",
       "      <td>5</td>\n",
       "      <td>8069002401</td>\n",
       "      <td>Census Tract 24.01, Larimer County, Colorado</td>\n",
       "      <td>Larimer</td>\n",
       "      <td>1190</td>\n",
       "      <td>2</td>\n",
       "      <td>8.2</td>\n",
       "      <td>95% C.I.: 7.4 - 9.1</td>\n",
       "      <td>Lowest Quintile</td>\n",
       "      <td>County/Regional Estimate 8.4% (95% C.I.: 7 - 9.7)</td>\n",
       "      <td>Lowest Quintile</td>\n",
       "      <td>State Estimate 8.9% (95% C.I.: 8.5 - 9.2)</td>\n",
       "    </tr>\n",
       "  </tbody>\n",
       "</table>\n",
       "</div>"
      ],
      "text/plain": [
       "   OBJECTID  Census_Tract_FIPS                             Census_Tract_Name  \\\n",
       "0         1         8043979000   Census Tract 9790, Fremont County, Colorado   \n",
       "1         2         8045951600  Census Tract 9516, Garfield County, Colorado   \n",
       "2         3         8069002803  Census Tract 28.03, Larimer County, Colorado   \n",
       "3         4         8125963200      Census Tract 9632, Yuma County, Colorado   \n",
       "4         5         8069002401  Census Tract 24.01, Larimer County, Colorado   \n",
       "\n",
       "  County_Name  Adult_Population_Age18_and_over  Health_Statistics_Region  \\\n",
       "0     Fremont                             2994                        13   \n",
       "1    Garfield                             2800                        12   \n",
       "2     Larimer                               97                         2   \n",
       "3        Yuma                             4381                         1   \n",
       "4     Larimer                             1190                         2   \n",
       "\n",
       "   Asthma_Census_Tract_Estimate Asthma_Estimate_Confidence_Interval  \\\n",
       "0                           9.1                95% C.I.: 7.9 - 10.5   \n",
       "1                           7.9                 95% C.I.: 6.8 - 9.2   \n",
       "2                           9.8                95% C.I.: 8.8 - 10.8   \n",
       "3                           8.1                 95% C.I.: 6.8 - 9.7   \n",
       "4                           8.2                 95% C.I.: 7.4 - 9.1   \n",
       "\n",
       "  Asthma_Map_Symbol_withinHSR  \\\n",
       "0             Fourth Quintile   \n",
       "1             Middle Quintile   \n",
       "2            Highest Quintile   \n",
       "3             Lowest Quintile   \n",
       "4             Lowest Quintile   \n",
       "\n",
       "                     Asthma_County_Regional_Estimate Asthma_Map_Symbol_State  \\\n",
       "0  County/Regional Estimate 9.9% (95% C.I.: 7.1 -...         Fourth Quintile   \n",
       "1  County/Regional Estimate 5.1% (95% C.I.: 3.1 -...         Lowest Quintile   \n",
       "2  County/Regional Estimate 8.4% (95% C.I.: 7 - 9.7)        Highest Quintile   \n",
       "3  County/Regional Estimate 4% (95% C.I.: 1.7 - 6.4)         Lowest Quintile   \n",
       "4  County/Regional Estimate 8.4% (95% C.I.: 7 - 9.7)         Lowest Quintile   \n",
       "\n",
       "                       Asthma_State_Estimate  \n",
       "0  State Estimate 8.9% (95% C.I.: 8.5 - 9.2)  \n",
       "1  State Estimate 8.9% (95% C.I.: 8.5 - 9.2)  \n",
       "2  State Estimate 8.9% (95% C.I.: 8.5 - 9.2)  \n",
       "3  State Estimate 8.9% (95% C.I.: 8.5 - 9.2)  \n",
       "4  State Estimate 8.9% (95% C.I.: 8.5 - 9.2)  "
      ]
     },
     "execution_count": 6,
     "metadata": {},
     "output_type": "execute_result"
    }
   ],
   "source": [
    "modeled.head()"
   ]
  },
  {
   "cell_type": "code",
   "execution_count": 7,
   "metadata": {},
   "outputs": [
    {
     "data": {
      "text/html": [
       "<div>\n",
       "<style scoped>\n",
       "    .dataframe tbody tr th:only-of-type {\n",
       "        vertical-align: middle;\n",
       "    }\n",
       "\n",
       "    .dataframe tbody tr th {\n",
       "        vertical-align: top;\n",
       "    }\n",
       "\n",
       "    .dataframe thead th {\n",
       "        text-align: right;\n",
       "    }\n",
       "</style>\n",
       "<table border=\"1\" class=\"dataframe\">\n",
       "  <thead>\n",
       "    <tr style=\"text-align: right;\">\n",
       "      <th></th>\n",
       "      <th>OBJECTID</th>\n",
       "      <th>TRACT_FIPS</th>\n",
       "      <th>ASTHMA_ADJRATE</th>\n",
       "      <th>ASTHMA_L95CI</th>\n",
       "      <th>ASTHMA_U95CI</th>\n",
       "      <th>ASTHMA_STATEADJRATE</th>\n",
       "      <th>ASTHMA_SL95CI</th>\n",
       "      <th>ASTHMA_SU95CI</th>\n",
       "      <th>TRACT_NAME</th>\n",
       "      <th>COUNTY_NAME</th>\n",
       "      <th>ASTHMA_DISPLAY</th>\n",
       "    </tr>\n",
       "  </thead>\n",
       "  <tbody>\n",
       "    <tr>\n",
       "      <th>0</th>\n",
       "      <td>1</td>\n",
       "      <td>8043979000</td>\n",
       "      <td>527.94</td>\n",
       "      <td>356.66</td>\n",
       "      <td>699.23</td>\n",
       "      <td>637.8</td>\n",
       "      <td>634.79</td>\n",
       "      <td>640.81</td>\n",
       "      <td>Census Tract 9790, Fremont County, Colorado</td>\n",
       "      <td>FREMONT</td>\n",
       "      <td>Not Different Than State Average</td>\n",
       "    </tr>\n",
       "    <tr>\n",
       "      <th>1</th>\n",
       "      <td>2</td>\n",
       "      <td>8045951600</td>\n",
       "      <td>266.94</td>\n",
       "      <td>189.53</td>\n",
       "      <td>344.35</td>\n",
       "      <td>637.8</td>\n",
       "      <td>634.79</td>\n",
       "      <td>640.81</td>\n",
       "      <td>Census Tract 9516, Garfield County, Colorado</td>\n",
       "      <td>GARFIELD</td>\n",
       "      <td>Lower Than State Average</td>\n",
       "    </tr>\n",
       "    <tr>\n",
       "      <th>2</th>\n",
       "      <td>3</td>\n",
       "      <td>8069002803</td>\n",
       "      <td>0.00</td>\n",
       "      <td>0.00</td>\n",
       "      <td>0.00</td>\n",
       "      <td>637.8</td>\n",
       "      <td>634.79</td>\n",
       "      <td>640.81</td>\n",
       "      <td>Census Tract 28.03, Larimer County, Colorado</td>\n",
       "      <td>LARIMER</td>\n",
       "      <td>No Events or Data Suppressed</td>\n",
       "    </tr>\n",
       "    <tr>\n",
       "      <th>3</th>\n",
       "      <td>4</td>\n",
       "      <td>8125963200</td>\n",
       "      <td>350.95</td>\n",
       "      <td>281.08</td>\n",
       "      <td>420.83</td>\n",
       "      <td>637.8</td>\n",
       "      <td>634.79</td>\n",
       "      <td>640.81</td>\n",
       "      <td>Census Tract 9632, Yuma County, Colorado</td>\n",
       "      <td>YUMA</td>\n",
       "      <td>Lower Than State Average</td>\n",
       "    </tr>\n",
       "    <tr>\n",
       "      <th>4</th>\n",
       "      <td>5</td>\n",
       "      <td>8069002401</td>\n",
       "      <td>1002.35</td>\n",
       "      <td>285.47</td>\n",
       "      <td>1719.23</td>\n",
       "      <td>637.8</td>\n",
       "      <td>634.79</td>\n",
       "      <td>640.81</td>\n",
       "      <td>Census Tract 24.01, Larimer County, Colorado</td>\n",
       "      <td>LARIMER</td>\n",
       "      <td>Not Different Than State Average</td>\n",
       "    </tr>\n",
       "  </tbody>\n",
       "</table>\n",
       "</div>"
      ],
      "text/plain": [
       "   OBJECTID  TRACT_FIPS  ASTHMA_ADJRATE  ASTHMA_L95CI  ASTHMA_U95CI  \\\n",
       "0         1  8043979000          527.94        356.66        699.23   \n",
       "1         2  8045951600          266.94        189.53        344.35   \n",
       "2         3  8069002803            0.00          0.00          0.00   \n",
       "3         4  8125963200          350.95        281.08        420.83   \n",
       "4         5  8069002401         1002.35        285.47       1719.23   \n",
       "\n",
       "   ASTHMA_STATEADJRATE  ASTHMA_SL95CI  ASTHMA_SU95CI  \\\n",
       "0                637.8         634.79         640.81   \n",
       "1                637.8         634.79         640.81   \n",
       "2                637.8         634.79         640.81   \n",
       "3                637.8         634.79         640.81   \n",
       "4                637.8         634.79         640.81   \n",
       "\n",
       "                                     TRACT_NAME COUNTY_NAME  \\\n",
       "0   Census Tract 9790, Fremont County, Colorado     FREMONT   \n",
       "1  Census Tract 9516, Garfield County, Colorado    GARFIELD   \n",
       "2  Census Tract 28.03, Larimer County, Colorado     LARIMER   \n",
       "3      Census Tract 9632, Yuma County, Colorado        YUMA   \n",
       "4  Census Tract 24.01, Larimer County, Colorado     LARIMER   \n",
       "\n",
       "                     ASTHMA_DISPLAY  \n",
       "0  Not Different Than State Average  \n",
       "1          Lower Than State Average  \n",
       "2      No Events or Data Suppressed  \n",
       "3          Lower Than State Average  \n",
       "4  Not Different Than State Average  "
      ]
     },
     "execution_count": 7,
     "metadata": {},
     "output_type": "execute_result"
    }
   ],
   "source": [
    "hospital.head()"
   ]
  },
  {
   "cell_type": "code",
   "execution_count": 10,
   "metadata": {},
   "outputs": [],
   "source": [
    "hospital = hospital[[\"TRACT_FIPS\", \"ASTHMA_ADJRATE\", \"TRACT_NAME\", \"COUNTY_NAME\", \"ASTHMA_DISPLAY\"]]\n",
    "modeled = modeled[[\"Census_Tract_FIPS\", \"Asthma_Census_Tract_Estimate\",\"Census_Tract_Name\", \"County_Name\"]]"
   ]
  },
  {
   "cell_type": "code",
   "execution_count": 15,
   "metadata": {},
   "outputs": [
    {
     "name": "stderr",
     "output_type": "stream",
     "text": [
      "/Applications/anaconda3/lib/python3.6/site-packages/ipykernel_launcher.py:1: SettingWithCopyWarning: \n",
      "A value is trying to be set on a copy of a slice from a DataFrame.\n",
      "Try using .loc[row_indexer,col_indexer] = value instead\n",
      "\n",
      "See the caveats in the documentation: https://pandas.pydata.org/pandas-docs/stable/user_guide/indexing.html#returning-a-view-versus-a-copy\n",
      "  \"\"\"Entry point for launching an IPython kernel.\n"
     ]
    }
   ],
   "source": [
    "hospital[\"rank\"] = hospital[\"ASTHMA_ADJRATE\"].rank(pct = True, na_option = 'keep')*100\n",
    "modeled[\"rank\"] = modeled[\"Asthma_Census_Tract_Estimate\"].rank(pct = True, na_option = 'keep')*100"
   ]
  },
  {
   "cell_type": "code",
   "execution_count": 16,
   "metadata": {},
   "outputs": [
    {
     "data": {
      "text/html": [
       "<div>\n",
       "<style scoped>\n",
       "    .dataframe tbody tr th:only-of-type {\n",
       "        vertical-align: middle;\n",
       "    }\n",
       "\n",
       "    .dataframe tbody tr th {\n",
       "        vertical-align: top;\n",
       "    }\n",
       "\n",
       "    .dataframe thead th {\n",
       "        text-align: right;\n",
       "    }\n",
       "</style>\n",
       "<table border=\"1\" class=\"dataframe\">\n",
       "  <thead>\n",
       "    <tr style=\"text-align: right;\">\n",
       "      <th></th>\n",
       "      <th>TRACT_FIPS</th>\n",
       "      <th>ASTHMA_ADJRATE</th>\n",
       "      <th>TRACT_NAME</th>\n",
       "      <th>COUNTY_NAME</th>\n",
       "      <th>ASTHMA_DISPLAY</th>\n",
       "      <th>rank</th>\n",
       "    </tr>\n",
       "  </thead>\n",
       "  <tbody>\n",
       "    <tr>\n",
       "      <th>0</th>\n",
       "      <td>8043979000</td>\n",
       "      <td>527.94</td>\n",
       "      <td>Census Tract 9790, Fremont County, Colorado</td>\n",
       "      <td>FREMONT</td>\n",
       "      <td>Not Different Than State Average</td>\n",
       "      <td>35.024155</td>\n",
       "    </tr>\n",
       "    <tr>\n",
       "      <th>1</th>\n",
       "      <td>8045951600</td>\n",
       "      <td>266.94</td>\n",
       "      <td>Census Tract 9516, Garfield County, Colorado</td>\n",
       "      <td>GARFIELD</td>\n",
       "      <td>Lower Than State Average</td>\n",
       "      <td>8.132045</td>\n",
       "    </tr>\n",
       "    <tr>\n",
       "      <th>2</th>\n",
       "      <td>8069002803</td>\n",
       "      <td>0.00</td>\n",
       "      <td>Census Tract 28.03, Larimer County, Colorado</td>\n",
       "      <td>LARIMER</td>\n",
       "      <td>No Events or Data Suppressed</td>\n",
       "      <td>0.483092</td>\n",
       "    </tr>\n",
       "    <tr>\n",
       "      <th>3</th>\n",
       "      <td>8125963200</td>\n",
       "      <td>350.95</td>\n",
       "      <td>Census Tract 9632, Yuma County, Colorado</td>\n",
       "      <td>YUMA</td>\n",
       "      <td>Lower Than State Average</td>\n",
       "      <td>14.734300</td>\n",
       "    </tr>\n",
       "    <tr>\n",
       "      <th>4</th>\n",
       "      <td>8069002401</td>\n",
       "      <td>1002.35</td>\n",
       "      <td>Census Tract 24.01, Larimer County, Colorado</td>\n",
       "      <td>LARIMER</td>\n",
       "      <td>Not Different Than State Average</td>\n",
       "      <td>85.426731</td>\n",
       "    </tr>\n",
       "  </tbody>\n",
       "</table>\n",
       "</div>"
      ],
      "text/plain": [
       "   TRACT_FIPS  ASTHMA_ADJRATE                                    TRACT_NAME  \\\n",
       "0  8043979000          527.94   Census Tract 9790, Fremont County, Colorado   \n",
       "1  8045951600          266.94  Census Tract 9516, Garfield County, Colorado   \n",
       "2  8069002803            0.00  Census Tract 28.03, Larimer County, Colorado   \n",
       "3  8125963200          350.95      Census Tract 9632, Yuma County, Colorado   \n",
       "4  8069002401         1002.35  Census Tract 24.01, Larimer County, Colorado   \n",
       "\n",
       "  COUNTY_NAME                    ASTHMA_DISPLAY       rank  \n",
       "0     FREMONT  Not Different Than State Average  35.024155  \n",
       "1    GARFIELD          Lower Than State Average   8.132045  \n",
       "2     LARIMER      No Events or Data Suppressed   0.483092  \n",
       "3        YUMA          Lower Than State Average  14.734300  \n",
       "4     LARIMER  Not Different Than State Average  85.426731  "
      ]
     },
     "execution_count": 16,
     "metadata": {},
     "output_type": "execute_result"
    }
   ],
   "source": [
    "hospital.head()"
   ]
  },
  {
   "cell_type": "code",
   "execution_count": 17,
   "metadata": {},
   "outputs": [
    {
     "data": {
      "text/html": [
       "<div>\n",
       "<style scoped>\n",
       "    .dataframe tbody tr th:only-of-type {\n",
       "        vertical-align: middle;\n",
       "    }\n",
       "\n",
       "    .dataframe tbody tr th {\n",
       "        vertical-align: top;\n",
       "    }\n",
       "\n",
       "    .dataframe thead th {\n",
       "        text-align: right;\n",
       "    }\n",
       "</style>\n",
       "<table border=\"1\" class=\"dataframe\">\n",
       "  <thead>\n",
       "    <tr style=\"text-align: right;\">\n",
       "      <th></th>\n",
       "      <th>Census_Tract_FIPS</th>\n",
       "      <th>Asthma_Census_Tract_Estimate</th>\n",
       "      <th>Census_Tract_Name</th>\n",
       "      <th>County_Name</th>\n",
       "      <th>rank</th>\n",
       "    </tr>\n",
       "  </thead>\n",
       "  <tbody>\n",
       "    <tr>\n",
       "      <th>0</th>\n",
       "      <td>8043979000</td>\n",
       "      <td>9.1</td>\n",
       "      <td>Census Tract 9790, Fremont County, Colorado</td>\n",
       "      <td>Fremont</td>\n",
       "      <td>68.266129</td>\n",
       "    </tr>\n",
       "    <tr>\n",
       "      <th>1</th>\n",
       "      <td>8045951600</td>\n",
       "      <td>7.9</td>\n",
       "      <td>Census Tract 9516, Garfield County, Colorado</td>\n",
       "      <td>Garfield</td>\n",
       "      <td>6.653226</td>\n",
       "    </tr>\n",
       "    <tr>\n",
       "      <th>2</th>\n",
       "      <td>8069002803</td>\n",
       "      <td>9.8</td>\n",
       "      <td>Census Tract 28.03, Larimer County, Colorado</td>\n",
       "      <td>Larimer</td>\n",
       "      <td>89.193548</td>\n",
       "    </tr>\n",
       "    <tr>\n",
       "      <th>3</th>\n",
       "      <td>8125963200</td>\n",
       "      <td>8.1</td>\n",
       "      <td>Census Tract 9632, Yuma County, Colorado</td>\n",
       "      <td>Yuma</td>\n",
       "      <td>13.951613</td>\n",
       "    </tr>\n",
       "    <tr>\n",
       "      <th>4</th>\n",
       "      <td>8069002401</td>\n",
       "      <td>8.2</td>\n",
       "      <td>Census Tract 24.01, Larimer County, Colorado</td>\n",
       "      <td>Larimer</td>\n",
       "      <td>18.225806</td>\n",
       "    </tr>\n",
       "  </tbody>\n",
       "</table>\n",
       "</div>"
      ],
      "text/plain": [
       "   Census_Tract_FIPS  Asthma_Census_Tract_Estimate  \\\n",
       "0         8043979000                           9.1   \n",
       "1         8045951600                           7.9   \n",
       "2         8069002803                           9.8   \n",
       "3         8125963200                           8.1   \n",
       "4         8069002401                           8.2   \n",
       "\n",
       "                              Census_Tract_Name County_Name       rank  \n",
       "0   Census Tract 9790, Fremont County, Colorado     Fremont  68.266129  \n",
       "1  Census Tract 9516, Garfield County, Colorado    Garfield   6.653226  \n",
       "2  Census Tract 28.03, Larimer County, Colorado     Larimer  89.193548  \n",
       "3      Census Tract 9632, Yuma County, Colorado        Yuma  13.951613  \n",
       "4  Census Tract 24.01, Larimer County, Colorado     Larimer  18.225806  "
      ]
     },
     "execution_count": 17,
     "metadata": {},
     "output_type": "execute_result"
    }
   ],
   "source": [
    "modeled.head()"
   ]
  },
  {
   "cell_type": "markdown",
   "metadata": {},
   "source": [
    "One idea is that data with more of a distribution spread could be better for indicator use as it may help to show more of the difference in Asthma across states"
   ]
  },
  {
   "cell_type": "code",
   "execution_count": 21,
   "metadata": {},
   "outputs": [
    {
     "data": {
      "text/plain": [
       "Text(0.5,0,'Modeled Asthma Rate')"
      ]
     },
     "execution_count": 21,
     "metadata": {},
     "output_type": "execute_result"
    },
    {
     "data": {
      "image/png": "[encoded data removed]",
      "text/plain": [
       "<matplotlib.figure.Figure at 0x7fa16ce45898>"
      ]
     },
     "metadata": {},
     "output_type": "display_data"
    }
   ],
   "source": [
    "modeled.hist(\"Asthma_Census_Tract_Estimate\")\n",
    "plt.ylabel(\"Count\")\n",
    "plt.xlabel(\"Modeled Asthma Rate\")"
   ]
  },
  {
   "cell_type": "code",
   "execution_count": 22,
   "metadata": {},
   "outputs": [
    {
     "data": {
      "text/plain": [
       "Text(0.5,0,'Number of Asthma Hospital Discharges')"
      ]
     },
     "execution_count": 22,
     "metadata": {},
     "output_type": "execute_result"
    },
    {
     "data": {
      "image/png": "[encoded data removed]",
      "text/plain": [
       "<matplotlib.figure.Figure at 0x7fa16cfe8e48>"
      ]
     },
     "metadata": {},
     "output_type": "display_data"
    }
   ],
   "source": [
    "hospital.hist(\"ASTHMA_ADJRATE\")\n",
    "plt.ylabel(\"Count\")\n",
    "plt.xlabel(\"Number of Asthma Hospital Discharges\")"
   ]
  },
  {
   "cell_type": "markdown",
   "metadata": {},
   "source": [
    "Interesting to note that the modeled data has no zero data and a bit more of spread around the tail whereas the hospital discharges are centered around the lower bins"
   ]
  },
  {
   "cell_type": "code",
   "execution_count": 23,
   "metadata": {},
   "outputs": [
    {
     "data": {
      "text/plain": [
       "7"
      ]
     },
     "execution_count": 23,
     "metadata": {},
     "output_type": "execute_result"
    }
   ],
   "source": [
    "hospital[\"ASTHMA_ADJRATE\"].isna().sum()"
   ]
  },
  {
   "cell_type": "code",
   "execution_count": 24,
   "metadata": {},
   "outputs": [
    {
     "data": {
      "text/plain": [
       "9"
      ]
     },
     "execution_count": 24,
     "metadata": {},
     "output_type": "execute_result"
    }
   ],
   "source": [
    "modeled[\"Asthma_Census_Tract_Estimate\"].isna().sum()"
   ]
  },
  {
   "cell_type": "markdown",
   "metadata": {},
   "source": [
    "The hospital data has 2 fewer na values not a huge difference"
   ]
  },
  {
   "cell_type": "code",
   "execution_count": 25,
   "metadata": {},
   "outputs": [
    {
     "data": {
      "text/plain": [
       "array([[<matplotlib.axes._subplots.AxesSubplot object at 0x7fa16ce45b70>]],\n",
       "      dtype=object)"
      ]
     },
     "execution_count": 25,
     "metadata": {},
     "output_type": "execute_result"
    },
    {
     "data": {
      "image/png": "[encoded data removed]",
      "text/plain": [
       "<matplotlib.figure.Figure at 0x7fa16d181e10>"
      ]
     },
     "metadata": {},
     "output_type": "display_data"
    }
   ],
   "source": [
    "modeled.hist(\"rank\")"
   ]
  },
  {
   "cell_type": "code",
   "execution_count": 26,
   "metadata": {},
   "outputs": [
    {
     "data": {
      "text/plain": [
       "array([[<matplotlib.axes._subplots.AxesSubplot object at 0x7fa16d222550>]],\n",
       "      dtype=object)"
      ]
     },
     "execution_count": 26,
     "metadata": {},
     "output_type": "execute_result"
    },
    {
     "data": {
      "image/png": "[encoded data removed]",
      "text/plain": [
       "<matplotlib.figure.Figure at 0x7fa16d28a828>"
      ]
     },
     "metadata": {},
     "output_type": "display_data"
    }
   ],
   "source": [
    "hospital.hist(\"rank\")"
   ]
  },
  {
   "cell_type": "markdown",
   "metadata": {},
   "source": [
    "The hospital data is almost perfectly even in its spread of percentile ranks whereas there is a lot more variation in the modeled data."
   ]
  },
  {
   "cell_type": "code",
   "execution_count": 27,
   "metadata": {},
   "outputs": [
    {
     "data": {
      "text/html": [
       "<div>\n",
       "<style scoped>\n",
       "    .dataframe tbody tr th:only-of-type {\n",
       "        vertical-align: middle;\n",
       "    }\n",
       "\n",
       "    .dataframe tbody tr th {\n",
       "        vertical-align: top;\n",
       "    }\n",
       "\n",
       "    .dataframe thead th {\n",
       "        text-align: right;\n",
       "    }\n",
       "</style>\n",
       "<table border=\"1\" class=\"dataframe\">\n",
       "  <thead>\n",
       "    <tr style=\"text-align: right;\">\n",
       "      <th></th>\n",
       "      <th>Census_Tract_FIPS</th>\n",
       "      <th>Asthma_Census_Tract_Estimate</th>\n",
       "      <th>Census_Tract_Name</th>\n",
       "      <th>County_Name</th>\n",
       "      <th>rank</th>\n",
       "    </tr>\n",
       "  </thead>\n",
       "  <tbody>\n",
       "    <tr>\n",
       "      <th>601</th>\n",
       "      <td>8073961700</td>\n",
       "      <td>7.1</td>\n",
       "      <td>Census Tract 9617, Lincoln County, Colorado</td>\n",
       "      <td>Lincoln</td>\n",
       "      <td>0.080645</td>\n",
       "    </tr>\n",
       "  </tbody>\n",
       "</table>\n",
       "</div>"
      ],
      "text/plain": [
       "     Census_Tract_FIPS  Asthma_Census_Tract_Estimate  \\\n",
       "601         8073961700                           7.1   \n",
       "\n",
       "                               Census_Tract_Name County_Name      rank  \n",
       "601  Census Tract 9617, Lincoln County, Colorado     Lincoln  0.080645  "
      ]
     },
     "execution_count": 27,
     "metadata": {},
     "output_type": "execute_result"
    }
   ],
   "source": [
    "modeled[modeled[\"Asthma_Census_Tract_Estimate\"] == min(modeled[\"Asthma_Census_Tract_Estimate\"])]"
   ]
  },
  {
   "cell_type": "code",
   "execution_count": 28,
   "metadata": {},
   "outputs": [
    {
     "data": {
      "text/html": [
       "<div>\n",
       "<style scoped>\n",
       "    .dataframe tbody tr th:only-of-type {\n",
       "        vertical-align: middle;\n",
       "    }\n",
       "\n",
       "    .dataframe tbody tr th {\n",
       "        vertical-align: top;\n",
       "    }\n",
       "\n",
       "    .dataframe thead th {\n",
       "        text-align: right;\n",
       "    }\n",
       "</style>\n",
       "<table border=\"1\" class=\"dataframe\">\n",
       "  <thead>\n",
       "    <tr style=\"text-align: right;\">\n",
       "      <th></th>\n",
       "      <th>TRACT_FIPS</th>\n",
       "      <th>ASTHMA_ADJRATE</th>\n",
       "      <th>TRACT_NAME</th>\n",
       "      <th>COUNTY_NAME</th>\n",
       "      <th>ASTHMA_DISPLAY</th>\n",
       "      <th>rank</th>\n",
       "    </tr>\n",
       "  </thead>\n",
       "  <tbody>\n",
       "    <tr>\n",
       "      <th>2</th>\n",
       "      <td>8069002803</td>\n",
       "      <td>0.0</td>\n",
       "      <td>Census Tract 28.03, Larimer County, Colorado</td>\n",
       "      <td>LARIMER</td>\n",
       "      <td>No Events or Data Suppressed</td>\n",
       "      <td>0.483092</td>\n",
       "    </tr>\n",
       "    <tr>\n",
       "      <th>35</th>\n",
       "      <td>8037000501</td>\n",
       "      <td>0.0</td>\n",
       "      <td>Census Tract 5.01, Eagle County, Colorado</td>\n",
       "      <td>EAGLE</td>\n",
       "      <td>No Events or Data Suppressed</td>\n",
       "      <td>0.483092</td>\n",
       "    </tr>\n",
       "    <tr>\n",
       "      <th>462</th>\n",
       "      <td>8123000300</td>\n",
       "      <td>0.0</td>\n",
       "      <td>Census Tract 3, Weld County, Colorado</td>\n",
       "      <td>WELD</td>\n",
       "      <td>No Events or Data Suppressed</td>\n",
       "      <td>0.483092</td>\n",
       "    </tr>\n",
       "    <tr>\n",
       "      <th>485</th>\n",
       "      <td>8014980100</td>\n",
       "      <td>0.0</td>\n",
       "      <td>Census Tract 9801, Broomfield County, Colorado</td>\n",
       "      <td>BROOMFIELD</td>\n",
       "      <td>No Events or Data Suppressed</td>\n",
       "      <td>0.483092</td>\n",
       "    </tr>\n",
       "    <tr>\n",
       "      <th>494</th>\n",
       "      <td>8014980300</td>\n",
       "      <td>0.0</td>\n",
       "      <td>Census Tract 9803, Broomfield County, Colorado</td>\n",
       "      <td>BROOMFIELD</td>\n",
       "      <td>No Events or Data Suppressed</td>\n",
       "      <td>0.483092</td>\n",
       "    </tr>\n",
       "    <tr>\n",
       "      <th>513</th>\n",
       "      <td>8014980200</td>\n",
       "      <td>0.0</td>\n",
       "      <td>Census Tract 9802, Broomfield County, Colorado</td>\n",
       "      <td>BROOMFIELD</td>\n",
       "      <td>No Events or Data Suppressed</td>\n",
       "      <td>0.483092</td>\n",
       "    </tr>\n",
       "    <tr>\n",
       "      <th>544</th>\n",
       "      <td>8043980200</td>\n",
       "      <td>0.0</td>\n",
       "      <td>Census Tract 9802, Fremont County, Colorado</td>\n",
       "      <td>FREMONT</td>\n",
       "      <td>No Events or Data Suppressed</td>\n",
       "      <td>0.483092</td>\n",
       "    </tr>\n",
       "    <tr>\n",
       "      <th>548</th>\n",
       "      <td>8043980300</td>\n",
       "      <td>0.0</td>\n",
       "      <td>Census Tract 9803, Fremont County, Colorado</td>\n",
       "      <td>FREMONT</td>\n",
       "      <td>No Events or Data Suppressed</td>\n",
       "      <td>0.483092</td>\n",
       "    </tr>\n",
       "    <tr>\n",
       "      <th>551</th>\n",
       "      <td>8043980100</td>\n",
       "      <td>0.0</td>\n",
       "      <td>Census Tract 9801, Fremont County, Colorado</td>\n",
       "      <td>FREMONT</td>\n",
       "      <td>No Events or Data Suppressed</td>\n",
       "      <td>0.483092</td>\n",
       "    </tr>\n",
       "    <tr>\n",
       "      <th>670</th>\n",
       "      <td>8059980000</td>\n",
       "      <td>0.0</td>\n",
       "      <td>Census Tract 9800, Jefferson County, Colorado</td>\n",
       "      <td>JEFFERSON</td>\n",
       "      <td>No Events or Data Suppressed</td>\n",
       "      <td>0.483092</td>\n",
       "    </tr>\n",
       "    <tr>\n",
       "      <th>718</th>\n",
       "      <td>8101980100</td>\n",
       "      <td>0.0</td>\n",
       "      <td>Census Tract 9801, Pueblo County, Colorado</td>\n",
       "      <td>PUEBLO</td>\n",
       "      <td>No Events or Data Suppressed</td>\n",
       "      <td>0.483092</td>\n",
       "    </tr>\n",
       "  </tbody>\n",
       "</table>\n",
       "</div>"
      ],
      "text/plain": [
       "     TRACT_FIPS  ASTHMA_ADJRATE  \\\n",
       "2    8069002803             0.0   \n",
       "35   8037000501             0.0   \n",
       "462  8123000300             0.0   \n",
       "485  8014980100             0.0   \n",
       "494  8014980300             0.0   \n",
       "513  8014980200             0.0   \n",
       "544  8043980200             0.0   \n",
       "548  8043980300             0.0   \n",
       "551  8043980100             0.0   \n",
       "670  8059980000             0.0   \n",
       "718  8101980100             0.0   \n",
       "\n",
       "                                         TRACT_NAME COUNTY_NAME  \\\n",
       "2      Census Tract 28.03, Larimer County, Colorado     LARIMER   \n",
       "35        Census Tract 5.01, Eagle County, Colorado       EAGLE   \n",
       "462           Census Tract 3, Weld County, Colorado        WELD   \n",
       "485  Census Tract 9801, Broomfield County, Colorado  BROOMFIELD   \n",
       "494  Census Tract 9803, Broomfield County, Colorado  BROOMFIELD   \n",
       "513  Census Tract 9802, Broomfield County, Colorado  BROOMFIELD   \n",
       "544     Census Tract 9802, Fremont County, Colorado     FREMONT   \n",
       "548     Census Tract 9803, Fremont County, Colorado     FREMONT   \n",
       "551     Census Tract 9801, Fremont County, Colorado     FREMONT   \n",
       "670   Census Tract 9800, Jefferson County, Colorado   JEFFERSON   \n",
       "718      Census Tract 9801, Pueblo County, Colorado      PUEBLO   \n",
       "\n",
       "                   ASTHMA_DISPLAY      rank  \n",
       "2    No Events or Data Suppressed  0.483092  \n",
       "35   No Events or Data Suppressed  0.483092  \n",
       "462  No Events or Data Suppressed  0.483092  \n",
       "485  No Events or Data Suppressed  0.483092  \n",
       "494  No Events or Data Suppressed  0.483092  \n",
       "513  No Events or Data Suppressed  0.483092  \n",
       "544  No Events or Data Suppressed  0.483092  \n",
       "548  No Events or Data Suppressed  0.483092  \n",
       "551  No Events or Data Suppressed  0.483092  \n",
       "670  No Events or Data Suppressed  0.483092  \n",
       "718  No Events or Data Suppressed  0.483092  "
      ]
     },
     "execution_count": 28,
     "metadata": {},
     "output_type": "execute_result"
    }
   ],
   "source": [
    "hospital[hospital[\"ASTHMA_ADJRATE\"] == min(hospital[\"ASTHMA_ADJRATE\"])]"
   ]
  },
  {
   "cell_type": "code",
   "execution_count": 29,
   "metadata": {},
   "outputs": [
    {
     "data": {
      "text/html": [
       "<div>\n",
       "<style scoped>\n",
       "    .dataframe tbody tr th:only-of-type {\n",
       "        vertical-align: middle;\n",
       "    }\n",
       "\n",
       "    .dataframe tbody tr th {\n",
       "        vertical-align: top;\n",
       "    }\n",
       "\n",
       "    .dataframe thead th {\n",
       "        text-align: right;\n",
       "    }\n",
       "</style>\n",
       "<table border=\"1\" class=\"dataframe\">\n",
       "  <thead>\n",
       "    <tr style=\"text-align: right;\">\n",
       "      <th></th>\n",
       "      <th>Census_Tract_FIPS</th>\n",
       "      <th>Asthma_Census_Tract_Estimate</th>\n",
       "      <th>Census_Tract_Name</th>\n",
       "      <th>County_Name</th>\n",
       "      <th>rank</th>\n",
       "    </tr>\n",
       "  </thead>\n",
       "  <tbody>\n",
       "    <tr>\n",
       "      <th>90</th>\n",
       "      <td>8083941100</td>\n",
       "      <td>11.9</td>\n",
       "      <td>Census Tract 9411, Montezuma County, Colorado</td>\n",
       "      <td>Montezuma</td>\n",
       "      <td>99.959677</td>\n",
       "    </tr>\n",
       "    <tr>\n",
       "      <th>726</th>\n",
       "      <td>8101000903</td>\n",
       "      <td>11.9</td>\n",
       "      <td>Census Tract 9.03, Pueblo County, Colorado</td>\n",
       "      <td>Pueblo</td>\n",
       "      <td>99.959677</td>\n",
       "    </tr>\n",
       "  </tbody>\n",
       "</table>\n",
       "</div>"
      ],
      "text/plain": [
       "     Census_Tract_FIPS  Asthma_Census_Tract_Estimate  \\\n",
       "90          8083941100                          11.9   \n",
       "726         8101000903                          11.9   \n",
       "\n",
       "                                 Census_Tract_Name County_Name       rank  \n",
       "90   Census Tract 9411, Montezuma County, Colorado   Montezuma  99.959677  \n",
       "726     Census Tract 9.03, Pueblo County, Colorado      Pueblo  99.959677  "
      ]
     },
     "execution_count": 29,
     "metadata": {},
     "output_type": "execute_result"
    }
   ],
   "source": [
    "modeled[modeled[\"Asthma_Census_Tract_Estimate\"] == max(modeled[\"Asthma_Census_Tract_Estimate\"])]"
   ]
  },
  {
   "cell_type": "code",
   "execution_count": 30,
   "metadata": {},
   "outputs": [
    {
     "data": {
      "text/html": [
       "<div>\n",
       "<style scoped>\n",
       "    .dataframe tbody tr th:only-of-type {\n",
       "        vertical-align: middle;\n",
       "    }\n",
       "\n",
       "    .dataframe tbody tr th {\n",
       "        vertical-align: top;\n",
       "    }\n",
       "\n",
       "    .dataframe thead th {\n",
       "        text-align: right;\n",
       "    }\n",
       "</style>\n",
       "<table border=\"1\" class=\"dataframe\">\n",
       "  <thead>\n",
       "    <tr style=\"text-align: right;\">\n",
       "      <th></th>\n",
       "      <th>TRACT_FIPS</th>\n",
       "      <th>ASTHMA_ADJRATE</th>\n",
       "      <th>TRACT_NAME</th>\n",
       "      <th>COUNTY_NAME</th>\n",
       "      <th>ASTHMA_DISPLAY</th>\n",
       "      <th>rank</th>\n",
       "    </tr>\n",
       "  </thead>\n",
       "  <tbody>\n",
       "    <tr>\n",
       "      <th>1187</th>\n",
       "      <td>8041002300</td>\n",
       "      <td>3267.16</td>\n",
       "      <td>Census Tract 23, El Paso County, Colorado</td>\n",
       "      <td>EL PASO</td>\n",
       "      <td>Higher Than State Average</td>\n",
       "      <td>100.0</td>\n",
       "    </tr>\n",
       "  </tbody>\n",
       "</table>\n",
       "</div>"
      ],
      "text/plain": [
       "      TRACT_FIPS  ASTHMA_ADJRATE                                 TRACT_NAME  \\\n",
       "1187  8041002300         3267.16  Census Tract 23, El Paso County, Colorado   \n",
       "\n",
       "     COUNTY_NAME             ASTHMA_DISPLAY   rank  \n",
       "1187     EL PASO  Higher Than State Average  100.0  "
      ]
     },
     "execution_count": 30,
     "metadata": {},
     "output_type": "execute_result"
    }
   ],
   "source": [
    "hospital[hospital[\"ASTHMA_ADJRATE\"] == max(hospital[\"ASTHMA_ADJRATE\"])]"
   ]
  },
  {
   "cell_type": "code",
   "execution_count": null,
   "metadata": {},
   "outputs": [],
   "source": []
  }
 ],
 "metadata": {
  "kernelspec": {
   "display_name": "Python 3",
   "language": "python",
   "name": "python3"
  },
  "language_info": {
   "codemirror_mode": {
    "name": "ipython",
    "version": 3
   },
   "file_extension": ".py",
   "mimetype": "text/x-python",
   "name": "python",
   "nbconvert_exporter": "python",
   "pygments_lexer": "ipython3",
   "version": "3.6.4"
  }
 },
 "nbformat": 4,
 "nbformat_minor": 2
}
